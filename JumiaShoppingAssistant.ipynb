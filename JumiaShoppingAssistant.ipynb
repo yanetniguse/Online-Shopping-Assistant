import collections.abc
collections.Mapping = collections.abc.Mapping
# Import the experta library for building the expert system
from experta import Fact, Rule, KnowledgeEngine, W, NOT


# Define the knowledge engine for the shopping assistant
class JumiaShoppingAssistant(KnowledgeEngine):
    # Rule to recommend a smartphone
    @Rule(Fact(pref="electronics"), Fact(pref="medium"), Fact(pref="battery_life"))
    def recommend_smartphone(self):
        print("Recommendation: Based on your preferences for a medium-priced electronic with long battery life, we recommend a smartphone.")

    # Rule to recommend a jacket
    @Rule(Fact(pref="clothing"), Fact(pref="low"), Fact(pref="waterproof"))
    def recommend_jacket(self):
        print("Recommendation: Based on your preferences for low-priced clothing with waterproof features, we recommend a jacket.")

    # Rule to recommend a laptop
    @Rule(Fact(pref="electronics"), Fact(pref="high"), Fact(pref="performance"))
    def recommend_laptop(self):
        print("Recommendation: Based on your preferences for a high-performance electronic device, we recommend a laptop.")

    # Rule to recommend headphones
    @Rule(Fact(pref="electronics"), Fact(pref="low"), Fact(pref="sound_quality"))
    def recommend_headphones(self):
        print("Recommendation: Based on your preferences for low-priced electronics with great sound quality, we recommend headphones.")

    # Rule to recommend sneakers
    @Rule(Fact(pref="clothing"), Fact(pref="medium"), Fact(pref="comfort"))
    def recommend_sneakers(self):
        print("Recommendation: Based on your preferences for medium-priced clothing with comfort as a priority, we recommend sneakers.")

    # Rule to recommend a smartwatch
    @Rule(Fact(pref="electronics"), Fact(pref="medium"), Fact(pref="fitness_tracking"))
    def recommend_smartwatch(self):
        print("Recommendation: Based on your preferences for a medium-priced electronic with fitness tracking features, we recommend a smartwatch.")

    # Rule to recommend a backpack
    @Rule(Fact(pref="accessories"), Fact(pref="medium"), Fact(pref="durability"))
    def recommend_backpack(self):
        print("Recommendation: Based on your preferences for a medium-priced accessory with durability, we recommend a backpack.")

    # Rule to recommend sunglasses
    @Rule(Fact(pref="accessories"), Fact(pref="high"), Fact(pref="uv_protection"))
    def recommend_sunglasses(self):
        print("Recommendation: Based on your preferences for high-priced accessories with UV protection, we recommend sunglasses.")

    # Rule to recommend a gaming console
    @Rule(Fact(pref="electronics"), Fact(pref="high"), Fact(pref="gaming"))
    def recommend_gaming_console(self):
        print("Recommendation: Based on your preferences for high-priced electronics with gaming features, we recommend a gaming console.")

    # Rule to recommend a winter coat
    @Rule(Fact(pref="clothing"), Fact(pref="high"), Fact(pref="warmth"))
    def recommend_winter_coat(self):
        print("Recommendation: Based on your preferences for high-priced clothing with warmth features, we recommend a winter coat.")

    # Rule to recommend running shoes
    @Rule(Fact(pref="clothing"), Fact(pref="low"), Fact(pref="lightweight"))
    def recommend_running_shoes(self):
        print("Recommendation: Based on your preferences for low-priced clothing with lightweight features, we recommend running shoes.")

    # Fallback rule if no preferences are provided
    @Rule(NOT(Fact(pref=W())), salience=-1)
    def no_preferences(self):
        print("You haven't provided any preferences. Please specify your shopping needs.")

# Create an instance of the ShoppingAssistant engine
assistant = JumiaShoppingAssistant()

# Reset the knowledge engine to clear any previous state
assistant.reset()

# Prompt the user to enter their preferences
print("Welcome to the Shopping Assistant!")
print("Enter your shopping preferences. Type 'done' when you're finished.")
print("Examples of preferences: 'electronics', 'clothing', 'accessories', 'low', 'medium', 'high', 'waterproof', 'battery_life', 'performance', 'gaming', 'fitness_tracking', 'uv_protection', 'durability', 'warmth', 'lightweight'.")

# Collect user preferences and declare them as facts
while True:
    pref = input("Preference: ").strip().lower()  # Ask for user input and convert to lowercase
    if pref == "done":  # Break the loop if the user is done
        break
    assistant.declare(Fact(pref=pref))  # Declare the preference as a fact

# Run the knowledge engine to evaluate the rules
assistant.run()
